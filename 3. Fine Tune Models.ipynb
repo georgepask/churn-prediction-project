{
 "cells": [
  {
   "cell_type": "markdown",
   "metadata": {},
   "source": [
    "# Model Fine-Tuning"
   ]
  },
  {
   "cell_type": "code",
   "execution_count": 1,
   "metadata": {},
   "outputs": [],
   "source": [
    "#Import libraries \n",
    "\n",
    "import pandas as pd\n",
    "import numpy as np\n",
    "\n",
    "import seaborn as sns\n",
    "import matplotlib.pyplot as plt\n",
    "%matplotlib inline\n",
    "\n",
    "from sklearn.model_selection import train_test_split, KFold, GridSearchCV, cross_val_score\n",
    "from sklearn.tree import DecisionTreeClassifier\n",
    "from sklearn.ensemble import RandomForestClassifier, BaggingClassifier, AdaBoostClassifier, GradientBoostingClassifier\n",
    "from sklearn.metrics import confusion_matrix, recall_score, plot_confusion_matrix, classification_report, f1_score, accuracy_score\n",
    "\n",
    "from imblearn.over_sampling import SMOTE\n",
    "\n",
    "from HelperFunctions import compare_models, transform_split_data\n",
    "\n",
    "import warnings\n",
    "warnings.filterwarnings('ignore')"
   ]
  },
  {
   "cell_type": "code",
   "execution_count": 2,
   "metadata": {},
   "outputs": [
    {
     "data": {
      "text/html": [
       "<div>\n",
       "<style scoped>\n",
       "    .dataframe tbody tr th:only-of-type {\n",
       "        vertical-align: middle;\n",
       "    }\n",
       "\n",
       "    .dataframe tbody tr th {\n",
       "        vertical-align: top;\n",
       "    }\n",
       "\n",
       "    .dataframe thead th {\n",
       "        text-align: right;\n",
       "    }\n",
       "</style>\n",
       "<table border=\"1\" class=\"dataframe\">\n",
       "  <thead>\n",
       "    <tr style=\"text-align: right;\">\n",
       "      <th></th>\n",
       "      <th>state</th>\n",
       "      <th>account_length</th>\n",
       "      <th>international_plan</th>\n",
       "      <th>voice_mail_plan</th>\n",
       "      <th>number_vmail_messages</th>\n",
       "      <th>total_day_minutes</th>\n",
       "      <th>total_day_calls</th>\n",
       "      <th>total_day_charge</th>\n",
       "      <th>total_eve_minutes</th>\n",
       "      <th>total_eve_calls</th>\n",
       "      <th>...</th>\n",
       "      <th>total_night_calls</th>\n",
       "      <th>total_night_charge</th>\n",
       "      <th>total_intl_minutes</th>\n",
       "      <th>total_intl_calls</th>\n",
       "      <th>total_intl_charge</th>\n",
       "      <th>customer_service_calls</th>\n",
       "      <th>churn</th>\n",
       "      <th>total_calls</th>\n",
       "      <th>total_minutes</th>\n",
       "      <th>total_charge</th>\n",
       "    </tr>\n",
       "  </thead>\n",
       "  <tbody>\n",
       "    <tr>\n",
       "      <th>0</th>\n",
       "      <td>KS</td>\n",
       "      <td>128</td>\n",
       "      <td>0</td>\n",
       "      <td>1</td>\n",
       "      <td>25</td>\n",
       "      <td>265.1</td>\n",
       "      <td>110</td>\n",
       "      <td>45.07</td>\n",
       "      <td>197.4</td>\n",
       "      <td>99</td>\n",
       "      <td>...</td>\n",
       "      <td>91</td>\n",
       "      <td>11.01</td>\n",
       "      <td>10.0</td>\n",
       "      <td>3</td>\n",
       "      <td>2.70</td>\n",
       "      <td>1</td>\n",
       "      <td>0</td>\n",
       "      <td>303</td>\n",
       "      <td>717.2</td>\n",
       "      <td>75.56</td>\n",
       "    </tr>\n",
       "    <tr>\n",
       "      <th>1</th>\n",
       "      <td>OH</td>\n",
       "      <td>107</td>\n",
       "      <td>0</td>\n",
       "      <td>1</td>\n",
       "      <td>26</td>\n",
       "      <td>161.6</td>\n",
       "      <td>123</td>\n",
       "      <td>27.47</td>\n",
       "      <td>195.5</td>\n",
       "      <td>103</td>\n",
       "      <td>...</td>\n",
       "      <td>103</td>\n",
       "      <td>11.45</td>\n",
       "      <td>13.7</td>\n",
       "      <td>3</td>\n",
       "      <td>3.70</td>\n",
       "      <td>1</td>\n",
       "      <td>0</td>\n",
       "      <td>332</td>\n",
       "      <td>625.2</td>\n",
       "      <td>59.24</td>\n",
       "    </tr>\n",
       "    <tr>\n",
       "      <th>2</th>\n",
       "      <td>NJ</td>\n",
       "      <td>137</td>\n",
       "      <td>0</td>\n",
       "      <td>0</td>\n",
       "      <td>0</td>\n",
       "      <td>243.4</td>\n",
       "      <td>114</td>\n",
       "      <td>41.38</td>\n",
       "      <td>121.2</td>\n",
       "      <td>110</td>\n",
       "      <td>...</td>\n",
       "      <td>104</td>\n",
       "      <td>7.32</td>\n",
       "      <td>12.2</td>\n",
       "      <td>5</td>\n",
       "      <td>3.29</td>\n",
       "      <td>0</td>\n",
       "      <td>0</td>\n",
       "      <td>333</td>\n",
       "      <td>539.4</td>\n",
       "      <td>62.29</td>\n",
       "    </tr>\n",
       "    <tr>\n",
       "      <th>3</th>\n",
       "      <td>OH</td>\n",
       "      <td>84</td>\n",
       "      <td>1</td>\n",
       "      <td>0</td>\n",
       "      <td>0</td>\n",
       "      <td>299.4</td>\n",
       "      <td>71</td>\n",
       "      <td>50.90</td>\n",
       "      <td>61.9</td>\n",
       "      <td>88</td>\n",
       "      <td>...</td>\n",
       "      <td>89</td>\n",
       "      <td>8.86</td>\n",
       "      <td>6.6</td>\n",
       "      <td>7</td>\n",
       "      <td>1.78</td>\n",
       "      <td>2</td>\n",
       "      <td>0</td>\n",
       "      <td>255</td>\n",
       "      <td>564.8</td>\n",
       "      <td>66.80</td>\n",
       "    </tr>\n",
       "    <tr>\n",
       "      <th>4</th>\n",
       "      <td>OK</td>\n",
       "      <td>75</td>\n",
       "      <td>1</td>\n",
       "      <td>0</td>\n",
       "      <td>0</td>\n",
       "      <td>166.7</td>\n",
       "      <td>113</td>\n",
       "      <td>28.34</td>\n",
       "      <td>148.3</td>\n",
       "      <td>122</td>\n",
       "      <td>...</td>\n",
       "      <td>121</td>\n",
       "      <td>8.41</td>\n",
       "      <td>10.1</td>\n",
       "      <td>3</td>\n",
       "      <td>2.73</td>\n",
       "      <td>3</td>\n",
       "      <td>0</td>\n",
       "      <td>359</td>\n",
       "      <td>512.0</td>\n",
       "      <td>52.09</td>\n",
       "    </tr>\n",
       "  </tbody>\n",
       "</table>\n",
       "<p>5 rows × 22 columns</p>\n",
       "</div>"
      ],
      "text/plain": [
       "  state  account_length  international_plan  voice_mail_plan  \\\n",
       "0    KS             128                   0                1   \n",
       "1    OH             107                   0                1   \n",
       "2    NJ             137                   0                0   \n",
       "3    OH              84                   1                0   \n",
       "4    OK              75                   1                0   \n",
       "\n",
       "   number_vmail_messages  total_day_minutes  total_day_calls  \\\n",
       "0                     25              265.1              110   \n",
       "1                     26              161.6              123   \n",
       "2                      0              243.4              114   \n",
       "3                      0              299.4               71   \n",
       "4                      0              166.7              113   \n",
       "\n",
       "   total_day_charge  total_eve_minutes  total_eve_calls  ...  \\\n",
       "0             45.07              197.4               99  ...   \n",
       "1             27.47              195.5              103  ...   \n",
       "2             41.38              121.2              110  ...   \n",
       "3             50.90               61.9               88  ...   \n",
       "4             28.34              148.3              122  ...   \n",
       "\n",
       "   total_night_calls  total_night_charge  total_intl_minutes  \\\n",
       "0                 91               11.01                10.0   \n",
       "1                103               11.45                13.7   \n",
       "2                104                7.32                12.2   \n",
       "3                 89                8.86                 6.6   \n",
       "4                121                8.41                10.1   \n",
       "\n",
       "   total_intl_calls  total_intl_charge  customer_service_calls  churn  \\\n",
       "0                 3               2.70                       1      0   \n",
       "1                 3               3.70                       1      0   \n",
       "2                 5               3.29                       0      0   \n",
       "3                 7               1.78                       2      0   \n",
       "4                 3               2.73                       3      0   \n",
       "\n",
       "   total_calls  total_minutes  total_charge  \n",
       "0          303          717.2         75.56  \n",
       "1          332          625.2         59.24  \n",
       "2          333          539.4         62.29  \n",
       "3          255          564.8         66.80  \n",
       "4          359          512.0         52.09  \n",
       "\n",
       "[5 rows x 22 columns]"
      ]
     },
     "execution_count": 2,
     "metadata": {},
     "output_type": "execute_result"
    }
   ],
   "source": [
    "#Import the CSV with clean data\n",
    "df = pd.read_csv('data/clean_churn_cata.csv')\n",
    "\n",
    "#Preview\n",
    "df.head()"
   ]
  },
  {
   "cell_type": "markdown",
   "metadata": {},
   "source": [
    "I'm going to pre-process the data again, only this time I'll skip the scaling step. It's not required to scale the data for Bagged Trees and Gradient Boosting."
   ]
  },
  {
   "cell_type": "code",
   "execution_count": 3,
   "metadata": {},
   "outputs": [],
   "source": [
    "# Pre-process the data by dummifying categorical variables, fixing the class imbalance with SMOTE, and\n",
    "# scaling the data using StandardScaler (optional) \n",
    "\n",
    "X_train, X_test, y_train, y_test = transform_split_data(df, \"churn\", scale=False)"
   ]
  },
  {
   "cell_type": "code",
   "execution_count": 4,
   "metadata": {},
   "outputs": [
    {
     "name": "stdout",
     "output_type": "stream",
     "text": [
      "X_train and X_test:\n"
     ]
    },
    {
     "data": {
      "text/plain": [
       "pandas.core.frame.DataFrame"
      ]
     },
     "metadata": {},
     "output_type": "display_data"
    },
    {
     "data": {
      "text/plain": [
       "(4282, 70)"
      ]
     },
     "metadata": {},
     "output_type": "display_data"
    },
    {
     "data": {
      "text/plain": [
       "pandas.core.frame.DataFrame"
      ]
     },
     "metadata": {},
     "output_type": "display_data"
    },
    {
     "data": {
      "text/plain": [
       "(834, 70)"
      ]
     },
     "metadata": {},
     "output_type": "display_data"
    },
    {
     "name": "stdout",
     "output_type": "stream",
     "text": [
      "y_train and y_test:\n"
     ]
    },
    {
     "data": {
      "text/plain": [
       "pandas.core.series.Series"
      ]
     },
     "metadata": {},
     "output_type": "display_data"
    },
    {
     "data": {
      "text/plain": [
       "(4282,)"
      ]
     },
     "metadata": {},
     "output_type": "display_data"
    },
    {
     "data": {
      "text/plain": [
       "pandas.core.series.Series"
      ]
     },
     "metadata": {},
     "output_type": "display_data"
    },
    {
     "data": {
      "text/plain": [
       "(834,)"
      ]
     },
     "metadata": {},
     "output_type": "display_data"
    }
   ],
   "source": [
    "#Making sure everything matches \n",
    "print('X_train and X_test:')\n",
    "display(type(X_train), X_train.shape)\n",
    "display(type(X_test), X_test.shape)\n",
    "print(\"y_train and y_test:\")\n",
    "display(type(y_train), y_train.shape)\n",
    "display(type(y_test), y_test.shape)"
   ]
  },
  {
   "cell_type": "code",
   "execution_count": 5,
   "metadata": {
    "scrolled": false
   },
   "outputs": [],
   "source": [
    "%%capture  \n",
    "\n",
    "#to prevent the function from displaying its lengthy output below\n",
    "\n",
    "models = [BaggingClassifier(random_state=2142), GradientBoostingClassifier(random_state=2142)]       \n",
    "        \n",
    "names = ['Bagging Classifier', 'Gradient Boosting']\n",
    "\n",
    "baseline_no_scaling = compare_models(X_train, X_test, y_train, y_test, models, names)"
   ]
  },
  {
   "cell_type": "code",
   "execution_count": 6,
   "metadata": {},
   "outputs": [
    {
     "data": {
      "text/html": [
       "<div>\n",
       "<style scoped>\n",
       "    .dataframe tbody tr th:only-of-type {\n",
       "        vertical-align: middle;\n",
       "    }\n",
       "\n",
       "    .dataframe tbody tr th {\n",
       "        vertical-align: top;\n",
       "    }\n",
       "\n",
       "    .dataframe thead th {\n",
       "        text-align: right;\n",
       "    }\n",
       "</style>\n",
       "<table border=\"1\" class=\"dataframe\">\n",
       "  <thead>\n",
       "    <tr style=\"text-align: right;\">\n",
       "      <th></th>\n",
       "      <th>Model</th>\n",
       "      <th>Recall Score</th>\n",
       "      <th>Accuracy(Test)</th>\n",
       "      <th>F1 Score</th>\n",
       "    </tr>\n",
       "  </thead>\n",
       "  <tbody>\n",
       "    <tr>\n",
       "      <th>0</th>\n",
       "      <td>Bagging Classifier</td>\n",
       "      <td>0.872</td>\n",
       "      <td>0.955635</td>\n",
       "      <td>0.854902</td>\n",
       "    </tr>\n",
       "    <tr>\n",
       "      <th>1</th>\n",
       "      <td>Gradient Boosting</td>\n",
       "      <td>0.816</td>\n",
       "      <td>0.962830</td>\n",
       "      <td>0.868085</td>\n",
       "    </tr>\n",
       "  </tbody>\n",
       "</table>\n",
       "</div>"
      ],
      "text/plain": [
       "                Model  Recall Score  Accuracy(Test)  F1 Score\n",
       "0  Bagging Classifier         0.872        0.955635  0.854902\n",
       "1   Gradient Boosting         0.816        0.962830  0.868085"
      ]
     },
     "metadata": {},
     "output_type": "display_data"
    }
   ],
   "source": [
    "#Let's look at the baseline scores for the 2 models without scaling\n",
    "\n",
    "display(baseline_no_scaling)"
   ]
  },
  {
   "cell_type": "markdown",
   "metadata": {},
   "source": [
    "Hmm, the Recall Score for both classifiers went down compared the vanilla models I ran with the scaled data."
   ]
  },
  {
   "cell_type": "code",
   "execution_count": 7,
   "metadata": {},
   "outputs": [
    {
     "name": "stdout",
     "output_type": "stream",
     "text": [
      "X_train and X_test:\n"
     ]
    },
    {
     "data": {
      "text/plain": [
       "pandas.core.frame.DataFrame"
      ]
     },
     "metadata": {},
     "output_type": "display_data"
    },
    {
     "data": {
      "text/plain": [
       "(4282, 70)"
      ]
     },
     "metadata": {},
     "output_type": "display_data"
    },
    {
     "data": {
      "text/plain": [
       "pandas.core.frame.DataFrame"
      ]
     },
     "metadata": {},
     "output_type": "display_data"
    },
    {
     "data": {
      "text/plain": [
       "(834, 70)"
      ]
     },
     "metadata": {},
     "output_type": "display_data"
    },
    {
     "name": "stdout",
     "output_type": "stream",
     "text": [
      "y_train and y_test:\n"
     ]
    },
    {
     "data": {
      "text/plain": [
       "pandas.core.series.Series"
      ]
     },
     "metadata": {},
     "output_type": "display_data"
    },
    {
     "data": {
      "text/plain": [
       "(4282,)"
      ]
     },
     "metadata": {},
     "output_type": "display_data"
    },
    {
     "data": {
      "text/plain": [
       "pandas.core.series.Series"
      ]
     },
     "metadata": {},
     "output_type": "display_data"
    },
    {
     "data": {
      "text/plain": [
       "(834,)"
      ]
     },
     "metadata": {},
     "output_type": "display_data"
    }
   ],
   "source": [
    "# Let's try it again with scaling enabled\n",
    "\n",
    "Xs_train, Xs_test, y_train, y_test = transform_split_data(df, \"churn\", scale=True)\n",
    "\n",
    "#Making sure everything matches \n",
    "print('X_train and X_test:')\n",
    "display(type(X_train), X_train.shape)\n",
    "display(type(X_test), X_test.shape)\n",
    "print(\"y_train and y_test:\")\n",
    "display(type(y_train), y_train.shape)\n",
    "display(type(y_test), y_test.shape)"
   ]
  },
  {
   "cell_type": "code",
   "execution_count": 8,
   "metadata": {},
   "outputs": [],
   "source": [
    "%%capture  \n",
    "\n",
    "baseline_with_scaling = compare_models(Xs_train, Xs_test, y_train, y_test, models, names)"
   ]
  },
  {
   "cell_type": "code",
   "execution_count": 9,
   "metadata": {},
   "outputs": [
    {
     "data": {
      "text/html": [
       "<div>\n",
       "<style scoped>\n",
       "    .dataframe tbody tr th:only-of-type {\n",
       "        vertical-align: middle;\n",
       "    }\n",
       "\n",
       "    .dataframe tbody tr th {\n",
       "        vertical-align: top;\n",
       "    }\n",
       "\n",
       "    .dataframe thead th {\n",
       "        text-align: right;\n",
       "    }\n",
       "</style>\n",
       "<table border=\"1\" class=\"dataframe\">\n",
       "  <thead>\n",
       "    <tr style=\"text-align: right;\">\n",
       "      <th></th>\n",
       "      <th>Model</th>\n",
       "      <th>Recall Score</th>\n",
       "      <th>Accuracy(Test)</th>\n",
       "      <th>F1 Score</th>\n",
       "    </tr>\n",
       "  </thead>\n",
       "  <tbody>\n",
       "    <tr>\n",
       "      <th>0</th>\n",
       "      <td>Bagging Classifier</td>\n",
       "      <td>0.88</td>\n",
       "      <td>0.966427</td>\n",
       "      <td>0.887097</td>\n",
       "    </tr>\n",
       "    <tr>\n",
       "      <th>1</th>\n",
       "      <td>Gradient Boosting</td>\n",
       "      <td>0.88</td>\n",
       "      <td>0.979616</td>\n",
       "      <td>0.928270</td>\n",
       "    </tr>\n",
       "  </tbody>\n",
       "</table>\n",
       "</div>"
      ],
      "text/plain": [
       "                Model  Recall Score  Accuracy(Test)  F1 Score\n",
       "0  Bagging Classifier          0.88        0.966427  0.887097\n",
       "1   Gradient Boosting          0.88        0.979616  0.928270"
      ]
     },
     "metadata": {},
     "output_type": "display_data"
    }
   ],
   "source": [
    "display(baseline_with_scaling)"
   ]
  },
  {
   "cell_type": "markdown",
   "metadata": {},
   "source": [
    "\n",
    "This is better. I'll proceed by tuning both models with scaled data."
   ]
  },
  {
   "cell_type": "markdown",
   "metadata": {},
   "source": [
    "### Bagged Trees"
   ]
  },
  {
   "cell_type": "code",
   "execution_count": 10,
   "metadata": {},
   "outputs": [],
   "source": [
    "def eval_model(model, feat_train, target_train, feat_test, target_test, cv : int):\n",
    "    \n",
    "    \"\"\"Inputs: \n",
    "    model = model object\n",
    "    feat_train = training data\n",
    "    target_train = training target\n",
    "    feat_test = testing data\n",
    "    target_test = testing target\n",
    "    cv : int = value for cross validation \n",
    "    \n",
    "    Retruns: none\n",
    "    \n",
    "    This function prints the mean CV recall and accuracy score for the training set\n",
    "    and the recall and accuracy score for the test set.\n",
    "    \n",
    "    ------------------------\n",
    "    \"\"\" \n",
    "    \n",
    "    cv_recall = cross_val_score(model, feat_train, target_train, cv=cv, scoring='recall')\n",
    "    mean_cv_recall = np.mean(cv_recall)\n",
    "    cv_accuracy = cross_val_score(model, feat_train, target_train, cv=cv)\n",
    "    mean_cv_accuracy = np.mean(cv_accuracy)\n",
    "\n",
    "    print(f\"Mean Cross Validation Recall Score: {mean_cv_recall :.2%}\")\n",
    "    print(f\"Mean Cross Validation Accuracy Score: {mean_cv_accuracy :.2%}\")\n",
    "\n",
    "    recall_test = recall_score(target_test, model.predict(feat_test))\n",
    "    accuracy_test = accuracy_score(target_test, model.predict(feat_test))\n",
    "\n",
    "    print('-'*50)\n",
    "    print(f\"Recall Score for Test Set: {recall_test :.2%}\")\n",
    "    print(f\"Accuracy Score for Test Set: {accuracy_test :.2%}\")\n",
    "\n"
   ]
  },
  {
   "cell_type": "code",
   "execution_count": 11,
   "metadata": {
    "scrolled": true
   },
   "outputs": [
    {
     "name": "stdout",
     "output_type": "stream",
     "text": [
      "BAGGED TREES CLASSIFIER PERFORMANCE:\n",
      "Mean Cross Validation Recall Score: 93.27%\n",
      "Mean Cross Validation Accuracy Score: 95.42%\n",
      "--------------------------------------------------\n",
      "Recall Score for Test Set: 88.00%\n",
      "Accuracy Score for Test Set: 96.64%\n"
     ]
    }
   ],
   "source": [
    "#Baseline Bagged Model Recap\n",
    "bagged_trees = BaggingClassifier(random_state=2142)\n",
    "bagged_trees.fit(Xs_train, y_train)\n",
    "\n",
    "print(\"BAGGED TREES CLASSIFIER PERFORMANCE:\")\n",
    "eval_model(bagged_trees, Xs_train, y_train, Xs_test, y_test, cv=3)"
   ]
  },
  {
   "cell_type": "markdown",
   "metadata": {},
   "source": [
    "The baseline model for our Bagging Classifier using a Decision Tree as its default estimator performs pretty well. The recall and accuracy scores for the test set are slightly better than the scores from the training set, which suggests that overfitting is less likely. \n",
    "\n",
    "Default settings for the classifier are as follows:\n",
    "* estimator - a Decision Tree\n",
    "* n_estimators - 10\n",
    "* max_samples - 1.0 (float) \n",
    "* max_features - - 1.0 (float)\n",
    "* bootstrap - True\n",
    "* bootstrap_features - False \n",
    "\n",
    "Let's see if using GridSearch can improve the performance or the default settings will be the most optimal values for our hyperparamters. "
   ]
  },
  {
   "cell_type": "markdown",
   "metadata": {},
   "source": [
    "##### GridSearch for Bagged Trees"
   ]
  },
  {
   "cell_type": "code",
   "execution_count": 12,
   "metadata": {},
   "outputs": [],
   "source": [
    "def eval_grid_search(gridsearch, feat_test, target_test):\n",
    "    \n",
    "    \"\"\"Inputs: \n",
    "    gridsearch = GridSearch() object\n",
    "    feat_test = testing data\n",
    "    target_test = testing target\n",
    "    \n",
    "    Retruns: none\n",
    "    \n",
    "    This function prints the best recall score for the train data, \n",
    "    the recall score for the test dataset if the model uses best params, \n",
    "    and the best paramater combination identified by this grid search.\n",
    "    \n",
    "    ------------------------\n",
    "    \"\"\" \n",
    "    \n",
    "    #Best Recall Score\n",
    "    best_score = gridsearch.best_score_\n",
    "\n",
    "    # Mean test score\n",
    "    testing_score = gridsearch.score(feat_test, target_test)\n",
    "\n",
    "    print(f\"Best Score: {best_score :.2%}\")\n",
    "    print(f\"Test Score: {testing_score :.2%}\")\n",
    "    print(\"Best Parameter Combination Found During Grid Search:\", gridsearch.best_params_)"
   ]
  },
  {
   "cell_type": "markdown",
   "metadata": {},
   "source": [
    "The most important parameter for bagged decision trees is the number of trees, so I'll start there. I'll set a somewhat wide range from 5 to 100, but as separate, defined integers to save time. It should be enough to identify a good number of estimators. \n",
    "\n",
    "I'll also play around with the bootstrap sample. The default (1.0) uses the same number as the original training set, but I'm curious to see if decreasing that will improve performance, even if it increases the variance."
   ]
  },
  {
   "cell_type": "code",
   "execution_count": 18,
   "metadata": {},
   "outputs": [],
   "source": [
    "#Let's set testing params\n",
    "bt_param_grid = {\n",
    "    'n_estimators': [5, 10, 25, 50, 100],\n",
    "    'max_samples': [0.5, 1.0],\n",
    "}"
   ]
  },
  {
   "cell_type": "code",
   "execution_count": 19,
   "metadata": {},
   "outputs": [],
   "source": [
    "bt_grid_search = GridSearchCV(bagged_trees, bt_param_grid, cv=3, scoring = 'recall')"
   ]
  },
  {
   "cell_type": "code",
   "execution_count": 20,
   "metadata": {},
   "outputs": [
    {
     "data": {
      "text/plain": [
       "GridSearchCV(cv=3, estimator=BaggingClassifier(random_state=2142),\n",
       "             param_grid={'max_samples': [0.5, 1.0],\n",
       "                         'n_estimators': [5, 10, 25, 50, 100]},\n",
       "             scoring='recall')"
      ]
     },
     "execution_count": 20,
     "metadata": {},
     "output_type": "execute_result"
    }
   ],
   "source": [
    "bt_grid_search.fit(Xs_train, y_train)"
   ]
  },
  {
   "cell_type": "code",
   "execution_count": 21,
   "metadata": {},
   "outputs": [
    {
     "name": "stdout",
     "output_type": "stream",
     "text": [
      "Best Score: 94.63%\n",
      "Test Score: 88.00%\n",
      "Best Parameter Combination Found During Grid Search: {'max_samples': 1.0, 'n_estimators': 100}\n"
     ]
    }
   ],
   "source": [
    "eval_grid_search(bt_grid_search, Xs_test, y_test)"
   ]
  },
  {
   "cell_type": "markdown",
   "metadata": {},
   "source": [
    "There's a good increase in the recall score for the training data (87.76% -> **94.664%**), but the recall score for test data remained 88%, if we increase the # of estimators from 10 (default) to 25 while keepint the default value for maximum samples.\n",
    "<br>\n",
    "For the next round of grid search, I'll also add \"max_features\" to the mix. I'll explore a feature space from 10 to all features (70) in increments of ten."
   ]
  },
  {
   "cell_type": "code",
   "execution_count": 22,
   "metadata": {},
   "outputs": [],
   "source": [
    "#Adding max_features to the grid search params\n",
    "\n",
    "bt_param_grid_2 = {\n",
    "    'n_estimators': [5, 10, 25, 50, 100],\n",
    "    'max_samples': [1.0],\n",
    "    'max_features': [10,20,30,40,50,60,70]\n",
    "}\n",
    "\n",
    "bt_grid_search_2 = GridSearchCV(bagged_trees, bt_param_grid_2, cv=3, scoring = 'recall')"
   ]
  },
  {
   "cell_type": "code",
   "execution_count": 23,
   "metadata": {},
   "outputs": [
    {
     "data": {
      "text/plain": [
       "GridSearchCV(cv=3, estimator=BaggingClassifier(random_state=2142),\n",
       "             param_grid={'max_features': [10, 20, 30, 40, 50, 60, 70],\n",
       "                         'max_samples': [1.0],\n",
       "                         'n_estimators': [5, 10, 25, 50, 100]},\n",
       "             scoring='recall')"
      ]
     },
     "execution_count": 23,
     "metadata": {},
     "output_type": "execute_result"
    }
   ],
   "source": [
    "bt_grid_search_2.fit(Xs_train, y_train)"
   ]
  },
  {
   "cell_type": "code",
   "execution_count": 24,
   "metadata": {},
   "outputs": [
    {
     "name": "stdout",
     "output_type": "stream",
     "text": [
      "Best Score: 96.03%\n",
      "Test Score: 80.00%\n",
      "Best Parameter Combination Found During Grid Search: {'max_features': 40, 'max_samples': 1.0, 'n_estimators': 25}\n"
     ]
    }
   ],
   "source": [
    "eval_grid_search(bt_grid_search_2, Xs_test, y_test)"
   ]
  },
  {
   "cell_type": "code",
   "execution_count": 26,
   "metadata": {},
   "outputs": [
    {
     "data": {
      "text/plain": [
       "array([[707,   2],\n",
       "       [ 25, 100]])"
      ]
     },
     "metadata": {},
     "output_type": "display_data"
    }
   ],
   "source": [
    "bt_grid_predict_2 = bt_grid_search_2.predict(Xs_test)\n",
    "display(confusion_matrix(y_test, bt_grid_predict_2))"
   ]
  },
  {
   "cell_type": "markdown",
   "metadata": {},
   "source": [
    "The best combination leads to a decrease in Recall for the test data. It misclassified 25 departed customers as loyal clients. This means this variation of the model is probably overfit. For now, I'll keep the version from the first grid search."
   ]
  },
  {
   "cell_type": "code",
   "execution_count": 27,
   "metadata": {},
   "outputs": [
    {
     "name": "stdout",
     "output_type": "stream",
     "text": [
      "TUNNED BAGGED TREES CLASSIFIER PERFORMANCE:\n",
      "Mean Cross Validation Recall Score: 94.16%\n",
      "Mean Cross Validation Accuracy Score: 95.91%\n",
      "--------------------------------------------------\n",
      "Recall Score for Test Set: 88.00%\n",
      "Accuracy Score for Test Set: 96.04%\n"
     ]
    },
    {
     "data": {
      "text/plain": [
       "Text(0, 0.5, 'Feature Importance Score')"
      ]
     },
     "execution_count": 27,
     "metadata": {},
     "output_type": "execute_result"
    },
    {
     "data": {
      "image/png": "[encoded data removed]",
      "text/plain": [
       "<Figure size 1440x576 with 1 Axes>"
      ]
     },
     "metadata": {
      "needs_background": "light"
     },
     "output_type": "display_data"
    }
   ],
   "source": [
    "tuned_bt = BaggingClassifier(n_estimators=25, random_state=2142)\n",
    "tuned_bt.fit(Xs_train, y_train)\n",
    "\n",
    "print(\"TUNNED BAGGED TREES CLASSIFIER PERFORMANCE:\")\n",
    "eval_model(tuned_bt, Xs_train, y_train, Xs_test, y_test, cv=3)\n",
    "\n",
    "feature_importances = np.mean([\n",
    "    tree.feature_importances_ for tree in tuned_bt.estimators_], axis=0)\n",
    "\n",
    "feat_imp = pd.Series(feature_importances, Xs_train.columns).sort_values(ascending=False)\n",
    "feat_imp.plot(kind='bar', title='Feature Importances', figsize = (20,8))\n",
    "plt.ylabel('Feature Importance Score')"
   ]
  },
  {
   "cell_type": "markdown",
   "metadata": {},
   "source": [
    "#### What if we removed 'state' as a feature from the model? Will that improve the performance of the base and tuned models?"
   ]
  },
  {
   "cell_type": "code",
   "execution_count": 28,
   "metadata": {},
   "outputs": [],
   "source": [
    "df2 = df.drop(['state'], axis=1)"
   ]
  },
  {
   "cell_type": "code",
   "execution_count": 29,
   "metadata": {},
   "outputs": [],
   "source": [
    "X2_train, X2_test, y2_train, y2_test = transform_split_data(df2, \"churn\", scale=True)"
   ]
  },
  {
   "cell_type": "code",
   "execution_count": 30,
   "metadata": {},
   "outputs": [
    {
     "name": "stdout",
     "output_type": "stream",
     "text": [
      "BASELINE MODEL 2 WITH REDUCED # OF FEATURES:\n",
      "Mean Cross Validation Recall Score: 92.95%\n",
      "Mean Cross Validation Accuracy Score: 96.01%\n",
      "--------------------------------------------------\n",
      "Recall Score for Test Set: 87.20%\n",
      "Accuracy Score for Test Set: 97.24%\n"
     ]
    }
   ],
   "source": [
    "bagged_trees2 = BaggingClassifier(random_state=2142)\n",
    "bagged_trees2.fit(X2_train, y2_train)\n",
    "\n",
    "print(\"BASELINE MODEL 2 WITH REDUCED # OF FEATURES:\")\n",
    "eval_model(bagged_trees2, X2_train, y2_train, X2_test, y2_test, cv=3)"
   ]
  },
  {
   "cell_type": "code",
   "execution_count": 31,
   "metadata": {},
   "outputs": [
    {
     "data": {
      "text/plain": [
       "BaggingClassifier(n_estimators=25, random_state=2142)"
      ]
     },
     "execution_count": 31,
     "metadata": {},
     "output_type": "execute_result"
    }
   ],
   "source": [
    "tuned_bt2 = BaggingClassifier(n_estimators=25, random_state=2142)\n",
    "tuned_bt2.fit(X2_train, y2_train)"
   ]
  },
  {
   "cell_type": "code",
   "execution_count": 32,
   "metadata": {},
   "outputs": [
    {
     "name": "stdout",
     "output_type": "stream",
     "text": [
      "TUNNED BAGGED TREES CLASSIFIER (LESS FEATURES) PERFORMANCE:\n",
      "Mean Cross Validation Recall Score: 93.69%\n",
      "Mean Cross Validation Accuracy Score: 96.31%\n",
      "--------------------------------------------------\n",
      "Recall Score for Test Set: 88.00%\n",
      "Accuracy Score for Test Set: 97.48%\n"
     ]
    },
    {
     "data": {
      "text/plain": [
       "Text(0, 0.5, 'Feature Importance Score')"
      ]
     },
     "execution_count": 32,
     "metadata": {},
     "output_type": "execute_result"
    },
    {
     "data": {
      "image/png": "[encoded data removed]",
      "text/plain": [
       "<Figure size 1440x576 with 1 Axes>"
      ]
     },
     "metadata": {
      "needs_background": "light"
     },
     "output_type": "display_data"
    }
   ],
   "source": [
    "print(\"TUNNED BAGGED TREES CLASSIFIER (LESS FEATURES) PERFORMANCE:\")\n",
    "eval_model(tuned_bt2, X2_train, y2_train, X2_test, y2_test, cv=3)\n",
    "\n",
    "feature_importances = np.mean([\n",
    "    tree.feature_importances_ for tree in tuned_bt2.estimators_], axis=0)\n",
    "\n",
    "feat_imp = pd.Series(feature_importances, X2_train.columns).sort_values(ascending=False)\n",
    "feat_imp.plot(kind='bar', title='Feature Importances', figsize = (20,8))\n",
    "plt.ylabel('Feature Importance Score')"
   ]
  },
  {
   "cell_type": "markdown",
   "metadata": {},
   "source": [
    "Removing the state dummies didn't result in any meaningful improvements."
   ]
  },
  {
   "cell_type": "code",
   "execution_count": 33,
   "metadata": {},
   "outputs": [
    {
     "data": {
      "text/plain": [
       "GridSearchCV(cv=3, estimator=BaggingClassifier(random_state=2142),\n",
       "             param_grid={'bootstrap_features': [True, False],\n",
       "                         'max_features': [3, 5, 7, 10, 12, 15, 20],\n",
       "                         'max_samples': [1.0],\n",
       "                         'n_estimators': [5, 10, 25, 50]},\n",
       "             scoring='recall')"
      ]
     },
     "execution_count": 33,
     "metadata": {},
     "output_type": "execute_result"
    }
   ],
   "source": [
    "bt_param_grid_3 = {\n",
    "    'n_estimators': [5, 10, 25, 50],\n",
    "    'max_samples': [1.0],\n",
    "    'max_features': [3,5,7,10,12,15,20],\n",
    "    'bootstrap_features': [True, False]\n",
    "}\n",
    "\n",
    "bt_grid_search_3 = GridSearchCV(bagged_trees2, bt_param_grid_3, cv=3, scoring = 'recall')\n",
    "bt_grid_search_3.fit(X2_train, y2_train)"
   ]
  },
  {
   "cell_type": "code",
   "execution_count": 34,
   "metadata": {},
   "outputs": [
    {
     "name": "stdout",
     "output_type": "stream",
     "text": [
      "Best Score: 95.33%\n",
      "Test Score: 75.20%\n",
      "Best Parameter Combination Found During Grid Search: {'bootstrap_features': True, 'max_features': 12, 'max_samples': 1.0, 'n_estimators': 25}\n"
     ]
    }
   ],
   "source": [
    "eval_grid_search(bt_grid_search_3, X2_test, y2_test)"
   ]
  },
  {
   "cell_type": "markdown",
   "metadata": {},
   "source": [
    "### Bagged Trees Summary\n",
    "\n",
    "Baseline model w/ 70 features had a train recall of 87.76% and test recall of 88%.\n",
    "\n",
    "Through GridSearch, I was able to fine-tune the model very slightly by selecting a higher number of estimators. The test recall for the tuned model is 88% and the train recall went 94.16%.\n",
    "\n",
    "GridSearch presented an option where the recall for the train set increased to 95.33%, however with that combination of hyperparamter settings, the test recall went down to 75.20%.\n",
    "\n",
    "In addition, I tried to see if dropping the less significant features such as the individual states would change the performance of both the baseline and the tuned Bagged tree model. It turns out that it didn't improve it.\n",
    "\n",
    "Therefore, the final Bagged Trees model is **tuned_bt**.\n",
    "\n",
    "TUNNED BAGGED TREES CLASSIFIER PERFORMANCE:\n",
    "--------------------------------------------------\n",
    "* Mean Cross Validation Recall Score: 94.16%\n",
    "* Mean Cross Validation Accuracy Score: 95.91%\n",
    "\n",
    "* Recall Score for Test Set: 88.00%\n",
    "* Accuracy Score for Test Set: 96.04%"
   ]
  },
  {
   "cell_type": "markdown",
   "metadata": {},
   "source": [
    "### Gradient Boosting"
   ]
  },
  {
   "cell_type": "code",
   "execution_count": 35,
   "metadata": {},
   "outputs": [
    {
     "name": "stdout",
     "output_type": "stream",
     "text": [
      "Mean Cross Validation Recall Score: 91.78%\n",
      "Mean Cross Validation Accuracy Score: 94.89%\n",
      "--------------------------------------------------\n",
      "Recall Score for Test Set: 88.00%\n",
      "Accuracy Score for Test Set: 97.96%\n"
     ]
    }
   ],
   "source": [
    "#Baseline Bagged Model Recap\n",
    "gb = GradientBoostingClassifier(random_state=2142)\n",
    "gb.fit(Xs_train, y_train)\n",
    "\n",
    "eval_model(gb, Xs_train, y_train, Xs_test, y_test, cv=3)\n"
   ]
  },
  {
   "cell_type": "markdown",
   "metadata": {},
   "source": [
    "Gradient Boosting is a more robust method than bagged trees, so I'll take a more incremental approach with GridSearch. Again, the baseline model has a pretty high recall score for both train and test data.  "
   ]
  },
  {
   "cell_type": "code",
   "execution_count": 36,
   "metadata": {},
   "outputs": [
    {
     "data": {
      "text/plain": [
       "GridSearchCV(cv=3, estimator=GradientBoostingClassifier(random_state=2142),\n",
       "             param_grid={'n_estimators': [50, 100, 250, 500]},\n",
       "             scoring='recall')"
      ]
     },
     "execution_count": 36,
     "metadata": {},
     "output_type": "execute_result"
    }
   ],
   "source": [
    "#I ran this test before I decided to do GridSearch in a more gradual fashion; the result was pretty good\n",
    "gb_param_test = {\n",
    "    'n_estimators': [50,100,250,500]\n",
    "}\n",
    "\n",
    "gb_gridsearch_1 = GridSearchCV(gb, gb_param_test, cv=3, scoring = 'recall')\n",
    "gb_gridsearch_1.fit(Xs_train, y_train)"
   ]
  },
  {
   "cell_type": "code",
   "execution_count": 37,
   "metadata": {},
   "outputs": [
    {
     "name": "stdout",
     "output_type": "stream",
     "text": [
      "Best Score: 93.28%\n",
      "Test Score: 88.00%\n",
      "Best Parameter Combination Found During Grid Search: {'n_estimators': 500}\n"
     ]
    }
   ],
   "source": [
    "eval_grid_search(gb_gridsearch_1, Xs_test, y_test)"
   ]
  },
  {
   "cell_type": "markdown",
   "metadata": {},
   "source": [
    "With the next test of parameters, I start the systematic GridSearch. At first, I'm focusing on the boosting parameters like the number of estimators and learning rate. Since I accidentally tested n_estimators before I built my strategy, I knew that it would be higher, so I decided to run another GridSearch to confirm that 500 is optimal. I preset the learning rate to 0.2 to save some time. I also fixed the tree-based parameters for now."
   ]
  },
  {
   "cell_type": "code",
   "execution_count": 43,
   "metadata": {},
   "outputs": [
    {
     "data": {
      "text/plain": [
       "GridSearchCV(cv=3,\n",
       "             estimator=GradientBoostingClassifier(learning_rate=0.2,\n",
       "                                                  max_depth=6, max_features=8,\n",
       "                                                  min_samples_leaf=50,\n",
       "                                                  min_samples_split=40,\n",
       "                                                  random_state=2142,\n",
       "                                                  subsample=0.8),\n",
       "             param_grid={'n_estimators': [50, 100, 250, 500]},\n",
       "             scoring='recall')"
      ]
     },
     "execution_count": 43,
     "metadata": {},
     "output_type": "execute_result"
    }
   ],
   "source": [
    "param_test_1 = {\n",
    "    'n_estimators': [50,100,250,500]\n",
    "}\n",
    "\n",
    "gb_gridsearch_2 = GridSearchCV(estimator = GradientBoostingClassifier(learning_rate = 0.2, min_samples_split= 40 , min_samples_leaf = 50,\n",
    "                                     max_depth = 6, max_features = 8, subsample = 0.8, random_state=2142), \n",
    "                               param_grid = param_test_1, cv=3, scoring = 'recall')\n",
    "\n",
    "gb_gridsearch_2.fit(Xs_train, y_train)"
   ]
  },
  {
   "cell_type": "code",
   "execution_count": 44,
   "metadata": {},
   "outputs": [
    {
     "name": "stdout",
     "output_type": "stream",
     "text": [
      "Best Score: 93.28%\n",
      "Test Score: 86.40%\n",
      "Best Parameter Combination Found During Grid Search: {'n_estimators': 500}\n"
     ]
    }
   ],
   "source": [
    "eval_grid_search(gb_gridsearch_2, Xs_test, y_test)"
   ]
  },
  {
   "cell_type": "markdown",
   "metadata": {},
   "source": [
    "This iteration performed slightly worse on the test set than the baseline model with only n_estimators=500, while keeping all other values as default.\n",
    "\n",
    "Next, let's focus on some tree-specific parameters, starting with max depth and min samples split, as they significantly impact the output. I expect min samples split to be optimal at about 0.5-1% of the total values, perhaps around 40, but I'll set a much higher range just in case. "
   ]
  },
  {
   "cell_type": "code",
   "execution_count": 45,
   "metadata": {},
   "outputs": [
    {
     "data": {
      "text/plain": [
       "GridSearchCV(cv=3,\n",
       "             estimator=GradientBoostingClassifier(learning_rate=0.2,\n",
       "                                                  max_features=8,\n",
       "                                                  n_estimators=500,\n",
       "                                                  random_state=2142,\n",
       "                                                  subsample=0.8),\n",
       "             param_grid={'max_depth': range(5, 14, 2),\n",
       "                         'min_samples_split': range(20, 200, 20)},\n",
       "             scoring='recall')"
      ]
     },
     "execution_count": 45,
     "metadata": {},
     "output_type": "execute_result"
    }
   ],
   "source": [
    "param_test_2 = {'max_depth':range(5,14,2), 'min_samples_split':range(20,200,20)}\n",
    "gb_gridsearch_3 = GridSearchCV(estimator=GradientBoostingClassifier(learning_rate = 0.2, n_estimators=500, \n",
    "                                                                    max_features = 8, subsample = 0.8, random_state=2142),\n",
    "                               param_grid = param_test_2, cv=3, scoring = 'recall')\n",
    "gb_gridsearch_3.fit(Xs_train, y_train)"
   ]
  },
  {
   "cell_type": "code",
   "execution_count": 46,
   "metadata": {},
   "outputs": [
    {
     "name": "stdout",
     "output_type": "stream",
     "text": [
      "Best Score: 95.75%\n",
      "Test Score: 83.20%\n",
      "Best Parameter Combination Found During Grid Search: {'max_depth': 11, 'min_samples_split': 20}\n"
     ]
    }
   ],
   "source": [
    "eval_grid_search(gb_gridsearch_3, Xs_test, y_test)"
   ]
  },
  {
   "cell_type": "markdown",
   "metadata": {},
   "source": [
    "This combination might be overfitting a bit more than the previous ones: the test score goes down as the train score goes up. \n",
    "\n",
    "Let's continue testing the tree-based paramaters. Next, let's examine max features:"
   ]
  },
  {
   "cell_type": "code",
   "execution_count": 47,
   "metadata": {},
   "outputs": [
    {
     "data": {
      "text/plain": [
       "GridSearchCV(cv=3,\n",
       "             estimator=GradientBoostingClassifier(learning_rate=0.2,\n",
       "                                                  max_depth=11,\n",
       "                                                  min_samples_leaf=50,\n",
       "                                                  min_samples_split=20,\n",
       "                                                  n_estimators=500,\n",
       "                                                  random_state=2142,\n",
       "                                                  subsample=0.8),\n",
       "             param_grid={'max_features': range(7, 20, 2)}, scoring='recall')"
      ]
     },
     "execution_count": 47,
     "metadata": {},
     "output_type": "execute_result"
    }
   ],
   "source": [
    "param_test_3 = {'max_features':range(7,20,2)}\n",
    "gb_gridsearch_4 = GridSearchCV(estimator = GradientBoostingClassifier(learning_rate = 0.2, n_estimators=500, min_samples_split= 20 , min_samples_leaf = 50,\n",
    "                                     max_depth = 11, subsample = 0.8, random_state=2142), \n",
    "                              param_grid = param_test_3, cv=3, scoring = 'recall')\n",
    "gb_gridsearch_4.fit(Xs_train, y_train)"
   ]
  },
  {
   "cell_type": "code",
   "execution_count": 48,
   "metadata": {},
   "outputs": [
    {
     "name": "stdout",
     "output_type": "stream",
     "text": [
      "Best Score: 93.79%\n",
      "Test Score: 85.60%\n",
      "Best Parameter Combination Found During Grid Search: {'max_features': 9}\n"
     ]
    }
   ],
   "source": [
    "eval_grid_search(gb_gridsearch_4, Xs_test, y_test)"
   ]
  },
  {
   "cell_type": "markdown",
   "metadata": {},
   "source": [
    "Slight improvement from the previous iteration, but still nowhere near the earlier versions of the model.\n",
    "\n",
    "Last, I want to do a final paramater test for the boosting paramater of subsample which refers to the fraction of observations to be selected for each tree."
   ]
  },
  {
   "cell_type": "code",
   "execution_count": 49,
   "metadata": {},
   "outputs": [
    {
     "data": {
      "text/plain": [
       "GridSearchCV(cv=3,\n",
       "             estimator=GradientBoostingClassifier(learning_rate=0.2,\n",
       "                                                  max_depth=11, max_features=9,\n",
       "                                                  min_samples_leaf=50,\n",
       "                                                  min_samples_split=20,\n",
       "                                                  n_estimators=500,\n",
       "                                                  random_state=2142),\n",
       "             param_grid={'subsample': [0.6, 0.7, 0.75, 0.8, 0.85, 0.9]},\n",
       "             scoring='recall')"
      ]
     },
     "execution_count": 49,
     "metadata": {},
     "output_type": "execute_result"
    }
   ],
   "source": [
    "param_test_4 = {'subsample':[0.6,0.7,0.75,0.8,0.85,0.9]}\n",
    "gb_gridsearch_5 = GridSearchCV(estimator = GradientBoostingClassifier(learning_rate = 0.2, n_estimators=500, min_samples_split= 20 , min_samples_leaf = 50,\n",
    "                                     max_depth = 11, random_state=2142, max_features=9), \n",
    "                              param_grid = param_test_4, cv=3, scoring = 'recall')\n",
    "gb_gridsearch_5.fit(Xs_train, y_train)"
   ]
  },
  {
   "cell_type": "code",
   "execution_count": 50,
   "metadata": {},
   "outputs": [
    {
     "name": "stdout",
     "output_type": "stream",
     "text": [
      "Best Score: 93.84%\n",
      "Test Score: 86.40%\n",
      "Best Parameter Combination Found During Grid Search: {'subsample': 0.9}\n"
     ]
    }
   ],
   "source": [
    "eval_grid_search(gb_gridsearch_5, Xs_test, y_test)"
   ]
  },
  {
   "cell_type": "markdown",
   "metadata": {},
   "source": [
    "This is the best iteration of the five-step Grid Search strategy. It has a bit lower test recall than the random GridSearch version I did at first, but also a slighly higher train recall score. \n",
    "\n",
    "Let's take a closer look at both and choose a winning Gradient Boosting classifier. "
   ]
  },
  {
   "cell_type": "code",
   "execution_count": 51,
   "metadata": {},
   "outputs": [
    {
     "data": {
      "text/plain": [
       "GradientBoostingClassifier(learning_rate=0.2, max_depth=11, max_features=9,\n",
       "                           min_samples_leaf=50, min_samples_split=20,\n",
       "                           n_estimators=500, random_state=2142, subsample=0.9)"
      ]
     },
     "execution_count": 51,
     "metadata": {},
     "output_type": "execute_result"
    }
   ],
   "source": [
    "tuned_gb_one = GradientBoostingClassifier(learning_rate=0.2, max_depth=11, max_features=9,\n",
    "                           min_samples_leaf=50, min_samples_split=20, \n",
    "                           n_estimators=500, subsample = 0.9, random_state=2142)\n",
    "tuned_gb_one.fit(Xs_train, y_train)\n"
   ]
  },
  {
   "cell_type": "code",
   "execution_count": 52,
   "metadata": {},
   "outputs": [
    {
     "name": "stdout",
     "output_type": "stream",
     "text": [
      "TUNNED GRADIENT BOOSTING CLASSIFIER ONE - PERFORMANCE:\n",
      "Mean Cross Validation Recall Score: 93.84%\n",
      "Mean Cross Validation Accuracy Score: 96.38%\n",
      "--------------------------------------------------\n",
      "Recall Score for Test Set: 86.40%\n",
      "Accuracy Score for Test Set: 97.48%\n"
     ]
    },
    {
     "data": {
      "text/plain": [
       "Text(0, 0.5, 'Feature Importance Score')"
      ]
     },
     "execution_count": 52,
     "metadata": {},
     "output_type": "execute_result"
    },
    {
     "data": {
      "image/png": "[encoded data removed]",
      "text/plain": [
       "<Figure size 1440x576 with 1 Axes>"
      ]
     },
     "metadata": {
      "needs_background": "light"
     },
     "output_type": "display_data"
    }
   ],
   "source": [
    "print(\"TUNNED GRADIENT BOOSTING CLASSIFIER ONE - PERFORMANCE:\")\n",
    "eval_model(tuned_gb_one, Xs_train, y_train, Xs_test, y_test, cv=3)\n",
    "\n",
    "feat_imp = pd.Series(tuned_gb_one.feature_importances_, Xs_train.columns).sort_values(ascending=False)\n",
    "feat_imp.plot(kind='bar', title='Feature Importances', figsize = (20,8))\n",
    "plt.ylabel('Feature Importance Score')"
   ]
  },
  {
   "cell_type": "code",
   "execution_count": 53,
   "metadata": {},
   "outputs": [
    {
     "data": {
      "text/plain": [
       "GradientBoostingClassifier(n_estimators=500, random_state=2142)"
      ]
     },
     "execution_count": 53,
     "metadata": {},
     "output_type": "execute_result"
    }
   ],
   "source": [
    "tuned_gb_two = GradientBoostingClassifier(n_estimators=500, random_state=2142)\n",
    "\n",
    "tuned_gb_two.fit(Xs_train, y_train)"
   ]
  },
  {
   "cell_type": "code",
   "execution_count": 54,
   "metadata": {},
   "outputs": [
    {
     "name": "stdout",
     "output_type": "stream",
     "text": [
      "TUNNED GRADIENT BOOSTING CLASSIFIER TWO - PERFORMANCE:\n",
      "Mean Cross Validation Recall Score: 93.28%\n",
      "Mean Cross Validation Accuracy Score: 96.24%\n",
      "--------------------------------------------------\n",
      "Recall Score for Test Set: 88.00%\n",
      "Accuracy Score for Test Set: 98.20%\n"
     ]
    },
    {
     "data": {
      "text/plain": [
       "Text(0, 0.5, 'Feature Importance Score')"
      ]
     },
     "execution_count": 54,
     "metadata": {},
     "output_type": "execute_result"
    },
    {
     "data": {
      "image/png": "[encoded data removed]",
      "text/plain": [
       "<Figure size 1440x576 with 1 Axes>"
      ]
     },
     "metadata": {
      "needs_background": "light"
     },
     "output_type": "display_data"
    }
   ],
   "source": [
    "print(\"TUNNED GRADIENT BOOSTING CLASSIFIER TWO - PERFORMANCE:\")\n",
    "eval_model(tuned_gb_two, Xs_train, y_train, Xs_test, y_test, cv=3)\n",
    "\n",
    "feat_imp = pd.Series(tuned_gb_two.feature_importances_, Xs_train.columns).sort_values(ascending=False)\n",
    "feat_imp.plot(kind='bar', title='Feature Importances', figsize = (20,8))\n",
    "plt.ylabel('Feature Importance Score')"
   ]
  },
  {
   "cell_type": "markdown",
   "metadata": {},
   "source": [
    "I'll go with the second one."
   ]
  },
  {
   "cell_type": "markdown",
   "metadata": {},
   "source": [
    "# FINAL MODEL:"
   ]
  },
  {
   "cell_type": "markdown",
   "metadata": {},
   "source": [
    "The algorithm using the Gradient Boosting method has higher Accuracy than the Bagged Trees, the same test Recall score, and almost identical train Recall score. Therefore, The final algorithm I'll use to offer advise to the telecom company is the Gradient Boosting model above - **tuned_gb_two**. "
   ]
  }
 ],
 "metadata": {
  "kernelspec": {
   "display_name": "learn-env",
   "language": "python",
   "name": "learn-env"
  },
  "language_info": {
   "codemirror_mode": {
    "name": "ipython",
    "version": 3
   },
   "file_extension": ".py",
   "mimetype": "text/x-python",
   "name": "python",
   "nbconvert_exporter": "python",
   "pygments_lexer": "ipython3",
   "version": "3.6.9"
  }
 },
 "nbformat": 4,
 "nbformat_minor": 4
}
