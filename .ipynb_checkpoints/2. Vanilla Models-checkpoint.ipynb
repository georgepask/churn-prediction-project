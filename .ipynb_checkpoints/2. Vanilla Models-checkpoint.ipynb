{
 "cells": [
  {
   "cell_type": "markdown",
   "metadata": {},
   "source": [
    "# Vanilla Models "
   ]
  },
  {
   "cell_type": "code",
   "execution_count": 1,
   "metadata": {},
   "outputs": [],
   "source": [
    "#Import libraries \n",
    "\n",
    "import pandas as pd\n",
    "import numpy as np\n",
    "\n",
    "import seaborn as sns\n",
    "import matplotlib.pyplot as plt\n",
    "%matplotlib inline\n",
    "\n",
    "from sklearn.preprocessing import OneHotEncoder, StandardScaler\n",
    "from sklearn.model_selection import train_test_split\n",
    "from sklearn.linear_model import LogisticRegression\n",
    "from sklearn.neighbors import KNeighborsClassifier\n",
    "from sklearn.naive_bayes import GaussianNB\n",
    "from sklearn.tree import DecisionTreeClassifier\n",
    "from sklearn.svm import SVC\n",
    "from sklearn.ensemble import RandomForestClassifier, BaggingClassifier, AdaBoostClassifier, GradientBoostingClassifier\n",
    "from sklearn.metrics import confusion_matrix, recall_score, plot_confusion_matrix, classification_report, f1_score, accuracy_score\n",
    "\n",
    "from xgboost import XGBClassifier\n",
    "\n",
    "from imblearn.over_sampling import SMOTE\n",
    "\n",
    "from HelperFunctions import compare_models, transform_split_data\n",
    "\n",
    "import warnings\n",
    "warnings.filterwarnings('ignore')"
   ]
  },
  {
   "cell_type": "markdown",
   "metadata": {},
   "source": [
    "## Pre-Processing"
   ]
  },
  {
   "cell_type": "code",
   "execution_count": 2,
   "metadata": {},
   "outputs": [
    {
     "data": {
      "text/html": [
       "<div>\n",
       "<style scoped>\n",
       "    .dataframe tbody tr th:only-of-type {\n",
       "        vertical-align: middle;\n",
       "    }\n",
       "\n",
       "    .dataframe tbody tr th {\n",
       "        vertical-align: top;\n",
       "    }\n",
       "\n",
       "    .dataframe thead th {\n",
       "        text-align: right;\n",
       "    }\n",
       "</style>\n",
       "<table border=\"1\" class=\"dataframe\">\n",
       "  <thead>\n",
       "    <tr style=\"text-align: right;\">\n",
       "      <th></th>\n",
       "      <th>state</th>\n",
       "      <th>account_length</th>\n",
       "      <th>international_plan</th>\n",
       "      <th>voice_mail_plan</th>\n",
       "      <th>number_vmail_messages</th>\n",
       "      <th>total_day_minutes</th>\n",
       "      <th>total_day_calls</th>\n",
       "      <th>total_day_charge</th>\n",
       "      <th>total_eve_minutes</th>\n",
       "      <th>total_eve_calls</th>\n",
       "      <th>...</th>\n",
       "      <th>total_night_calls</th>\n",
       "      <th>total_night_charge</th>\n",
       "      <th>total_intl_minutes</th>\n",
       "      <th>total_intl_calls</th>\n",
       "      <th>total_intl_charge</th>\n",
       "      <th>customer_service_calls</th>\n",
       "      <th>churn</th>\n",
       "      <th>total_calls</th>\n",
       "      <th>total_minutes</th>\n",
       "      <th>total_charge</th>\n",
       "    </tr>\n",
       "  </thead>\n",
       "  <tbody>\n",
       "    <tr>\n",
       "      <th>0</th>\n",
       "      <td>KS</td>\n",
       "      <td>128</td>\n",
       "      <td>0</td>\n",
       "      <td>1</td>\n",
       "      <td>25</td>\n",
       "      <td>265.1</td>\n",
       "      <td>110</td>\n",
       "      <td>45.07</td>\n",
       "      <td>197.4</td>\n",
       "      <td>99</td>\n",
       "      <td>...</td>\n",
       "      <td>91</td>\n",
       "      <td>11.01</td>\n",
       "      <td>10.0</td>\n",
       "      <td>3</td>\n",
       "      <td>2.70</td>\n",
       "      <td>1</td>\n",
       "      <td>0</td>\n",
       "      <td>303</td>\n",
       "      <td>717.2</td>\n",
       "      <td>75.56</td>\n",
       "    </tr>\n",
       "    <tr>\n",
       "      <th>1</th>\n",
       "      <td>OH</td>\n",
       "      <td>107</td>\n",
       "      <td>0</td>\n",
       "      <td>1</td>\n",
       "      <td>26</td>\n",
       "      <td>161.6</td>\n",
       "      <td>123</td>\n",
       "      <td>27.47</td>\n",
       "      <td>195.5</td>\n",
       "      <td>103</td>\n",
       "      <td>...</td>\n",
       "      <td>103</td>\n",
       "      <td>11.45</td>\n",
       "      <td>13.7</td>\n",
       "      <td>3</td>\n",
       "      <td>3.70</td>\n",
       "      <td>1</td>\n",
       "      <td>0</td>\n",
       "      <td>332</td>\n",
       "      <td>625.2</td>\n",
       "      <td>59.24</td>\n",
       "    </tr>\n",
       "    <tr>\n",
       "      <th>2</th>\n",
       "      <td>NJ</td>\n",
       "      <td>137</td>\n",
       "      <td>0</td>\n",
       "      <td>0</td>\n",
       "      <td>0</td>\n",
       "      <td>243.4</td>\n",
       "      <td>114</td>\n",
       "      <td>41.38</td>\n",
       "      <td>121.2</td>\n",
       "      <td>110</td>\n",
       "      <td>...</td>\n",
       "      <td>104</td>\n",
       "      <td>7.32</td>\n",
       "      <td>12.2</td>\n",
       "      <td>5</td>\n",
       "      <td>3.29</td>\n",
       "      <td>0</td>\n",
       "      <td>0</td>\n",
       "      <td>333</td>\n",
       "      <td>539.4</td>\n",
       "      <td>62.29</td>\n",
       "    </tr>\n",
       "    <tr>\n",
       "      <th>3</th>\n",
       "      <td>OH</td>\n",
       "      <td>84</td>\n",
       "      <td>1</td>\n",
       "      <td>0</td>\n",
       "      <td>0</td>\n",
       "      <td>299.4</td>\n",
       "      <td>71</td>\n",
       "      <td>50.90</td>\n",
       "      <td>61.9</td>\n",
       "      <td>88</td>\n",
       "      <td>...</td>\n",
       "      <td>89</td>\n",
       "      <td>8.86</td>\n",
       "      <td>6.6</td>\n",
       "      <td>7</td>\n",
       "      <td>1.78</td>\n",
       "      <td>2</td>\n",
       "      <td>0</td>\n",
       "      <td>255</td>\n",
       "      <td>564.8</td>\n",
       "      <td>66.80</td>\n",
       "    </tr>\n",
       "    <tr>\n",
       "      <th>4</th>\n",
       "      <td>OK</td>\n",
       "      <td>75</td>\n",
       "      <td>1</td>\n",
       "      <td>0</td>\n",
       "      <td>0</td>\n",
       "      <td>166.7</td>\n",
       "      <td>113</td>\n",
       "      <td>28.34</td>\n",
       "      <td>148.3</td>\n",
       "      <td>122</td>\n",
       "      <td>...</td>\n",
       "      <td>121</td>\n",
       "      <td>8.41</td>\n",
       "      <td>10.1</td>\n",
       "      <td>3</td>\n",
       "      <td>2.73</td>\n",
       "      <td>3</td>\n",
       "      <td>0</td>\n",
       "      <td>359</td>\n",
       "      <td>512.0</td>\n",
       "      <td>52.09</td>\n",
       "    </tr>\n",
       "  </tbody>\n",
       "</table>\n",
       "<p>5 rows × 22 columns</p>\n",
       "</div>"
      ],
      "text/plain": [
       "  state  account_length  international_plan  voice_mail_plan  \\\n",
       "0    KS             128                   0                1   \n",
       "1    OH             107                   0                1   \n",
       "2    NJ             137                   0                0   \n",
       "3    OH              84                   1                0   \n",
       "4    OK              75                   1                0   \n",
       "\n",
       "   number_vmail_messages  total_day_minutes  total_day_calls  \\\n",
       "0                     25              265.1              110   \n",
       "1                     26              161.6              123   \n",
       "2                      0              243.4              114   \n",
       "3                      0              299.4               71   \n",
       "4                      0              166.7              113   \n",
       "\n",
       "   total_day_charge  total_eve_minutes  total_eve_calls  ...  \\\n",
       "0             45.07              197.4               99  ...   \n",
       "1             27.47              195.5              103  ...   \n",
       "2             41.38              121.2              110  ...   \n",
       "3             50.90               61.9               88  ...   \n",
       "4             28.34              148.3              122  ...   \n",
       "\n",
       "   total_night_calls  total_night_charge  total_intl_minutes  \\\n",
       "0                 91               11.01                10.0   \n",
       "1                103               11.45                13.7   \n",
       "2                104                7.32                12.2   \n",
       "3                 89                8.86                 6.6   \n",
       "4                121                8.41                10.1   \n",
       "\n",
       "   total_intl_calls  total_intl_charge  customer_service_calls  churn  \\\n",
       "0                 3               2.70                       1      0   \n",
       "1                 3               3.70                       1      0   \n",
       "2                 5               3.29                       0      0   \n",
       "3                 7               1.78                       2      0   \n",
       "4                 3               2.73                       3      0   \n",
       "\n",
       "   total_calls  total_minutes  total_charge  \n",
       "0          303          717.2         75.56  \n",
       "1          332          625.2         59.24  \n",
       "2          333          539.4         62.29  \n",
       "3          255          564.8         66.80  \n",
       "4          359          512.0         52.09  \n",
       "\n",
       "[5 rows x 22 columns]"
      ]
     },
     "execution_count": 2,
     "metadata": {},
     "output_type": "execute_result"
    }
   ],
   "source": [
    "#Import the CSV with clean data\n",
    "df = pd.read_csv('data/clean_churn_cata.csv')\n",
    "\n",
    "#Preview\n",
    "df.head()"
   ]
  },
  {
   "cell_type": "markdown",
   "metadata": {},
   "source": [
    "I'm using a custom function **transform_split_data** that does the following the pre-processing actions in one step: <br><br>\n",
    " (1) Creates dummies for all categorical variables, in this case for \"state\" <br><br>\n",
    " (2) Splits data into training and testing sets <br><br>\n",
    " (3) Scales the numerical variables using StandardScaler() <br><br>\n",
    " (4) Uses SMOTE to fix the class imbalance in the dataset by oversamlping <br>"
   ]
  },
  {
   "cell_type": "code",
   "execution_count": 4,
   "metadata": {},
   "outputs": [],
   "source": [
    "X_train, X_test, y_train, y_test = transform_split_data(df, \"churn\", scale = True)"
   ]
  },
  {
   "cell_type": "markdown",
   "metadata": {},
   "source": [
    "Let's do a sanity check and look at the shapes for our train and test sets; just to make sure it all matches:"
   ]
  },
  {
   "cell_type": "code",
   "execution_count": 5,
   "metadata": {},
   "outputs": [
    {
     "data": {
      "text/plain": [
       "(4282, 70)"
      ]
     },
     "execution_count": 5,
     "metadata": {},
     "output_type": "execute_result"
    }
   ],
   "source": [
    "X_train.shape"
   ]
  },
  {
   "cell_type": "code",
   "execution_count": 6,
   "metadata": {},
   "outputs": [
    {
     "data": {
      "text/plain": [
       "(4282,)"
      ]
     },
     "execution_count": 6,
     "metadata": {},
     "output_type": "execute_result"
    }
   ],
   "source": [
    "y_train.shape"
   ]
  },
  {
   "cell_type": "code",
   "execution_count": 7,
   "metadata": {},
   "outputs": [
    {
     "data": {
      "text/plain": [
       "(834, 70)"
      ]
     },
     "execution_count": 7,
     "metadata": {},
     "output_type": "execute_result"
    }
   ],
   "source": [
    "X_test.shape"
   ]
  },
  {
   "cell_type": "code",
   "execution_count": 8,
   "metadata": {},
   "outputs": [
    {
     "data": {
      "text/plain": [
       "(834,)"
      ]
     },
     "execution_count": 8,
     "metadata": {},
     "output_type": "execute_result"
    }
   ],
   "source": [
    "y_test.shape"
   ]
  },
  {
   "cell_type": "markdown",
   "metadata": {},
   "source": [
    "All good! Let's fit some models. "
   ]
  },
  {
   "cell_type": "markdown",
   "metadata": {},
   "source": [
    "## Fitting and Comparing Vanilla Models  "
   ]
  },
  {
   "cell_type": "markdown",
   "metadata": {},
   "source": [
    "Since the next custom function I'm using produces a very lengthy output, I'm using this piece of code to force the notebook to disable scrolling and display the entire output. "
   ]
  },
  {
   "cell_type": "code",
   "execution_count": 10,
   "metadata": {},
   "outputs": [
    {
     "data": {
      "application/javascript": [
       "IPython.OutputArea.prototype._should_scroll = function(lines) {\n",
       "    return false;\n",
       "}"
      ],
      "text/plain": [
       "<IPython.core.display.Javascript object>"
      ]
     },
     "metadata": {},
     "output_type": "display_data"
    }
   ],
   "source": [
    "%%javascript\n",
    "IPython.OutputArea.prototype._should_scroll = function(lines) {\n",
    "    return false;\n",
    "}"
   ]
  },
  {
   "cell_type": "code",
   "execution_count": 14,
   "metadata": {},
   "outputs": [],
   "source": [
    "#Create lists with the model objects and model names that I'm going to feed to the custom function that compares them\n",
    "\n",
    "models = [LogisticRegression(), KNeighborsClassifier(), GaussianNB(), DecisionTreeClassifier(random_state=2142), RandomForestClassifier(random_state=2142),\n",
    "          BaggingClassifier(random_state=2142), AdaBoostClassifier(random_state=2142), GradientBoostingClassifier(random_state=2142), XGBClassifier(random_state=2142), SVC(random_state=2142)]\n",
    "        \n",
    "names = ['Log Regression','KNN', 'Naive Bayes', 'Decision Tree', 'Random Forest', 'Bagging Classifier', 'AdaBoost', 'Gradient Boosting', 'XGB','SVM']"
   ]
  },
  {
   "cell_type": "code",
   "execution_count": 15,
   "metadata": {},
   "outputs": [
    {
     "name": "stdout",
     "output_type": "stream",
     "text": [
      "\n",
      "\n",
      "----------------------------------------------------------------------------------------------------\n",
      "Log Regression\n"
     ]
    },
    {
     "data": {
      "image/png": "[encoded data removed]",
      "text/plain": [
       "<Figure size 432x288 with 2 Axes>"
      ]
     },
     "metadata": {
      "needs_background": "light"
     },
     "output_type": "display_data"
    },
    {
     "name": "stdout",
     "output_type": "stream",
     "text": [
      "Here's how the Log Regression model performed with the TRAINING data: \n",
      "\n",
      "              precision    recall  f1-score   support\n",
      "\n",
      "           0       0.81      0.79      0.80      2141\n",
      "           1       0.80      0.82      0.81      2141\n",
      "\n",
      "    accuracy                           0.80      4282\n",
      "   macro avg       0.80      0.80      0.80      4282\n",
      "weighted avg       0.80      0.80      0.80      4282\n",
      "\n",
      "---------------------------------------------------------------------------\n",
      "Here's how the Log Regression model performed with the TESTING data: \n",
      "\n",
      "              precision    recall  f1-score   support\n",
      "\n",
      "           0       0.95      0.78      0.86       709\n",
      "           1       0.38      0.77      0.51       125\n",
      "\n",
      "    accuracy                           0.78       834\n",
      "   macro avg       0.67      0.77      0.68       834\n",
      "weighted avg       0.87      0.78      0.81       834\n",
      "\n",
      "\n",
      "\n",
      "----------------------------------------------------------------------------------------------------\n",
      "KNN\n"
     ]
    },
    {
     "data": {
      "image/png": "[encoded data removed]",
      "text/plain": [
       "<Figure size 432x288 with 2 Axes>"
      ]
     },
     "metadata": {
      "needs_background": "light"
     },
     "output_type": "display_data"
    },
    {
     "name": "stdout",
     "output_type": "stream",
     "text": [
      "Here's how the KNN model performed with the TRAINING data: \n",
      "\n",
      "              precision    recall  f1-score   support\n",
      "\n",
      "           0       0.99      0.83      0.90      2141\n",
      "           1       0.85      0.99      0.92      2141\n",
      "\n",
      "    accuracy                           0.91      4282\n",
      "   macro avg       0.92      0.91      0.91      4282\n",
      "weighted avg       0.92      0.91      0.91      4282\n",
      "\n",
      "---------------------------------------------------------------------------\n",
      "Here's how the KNN model performed with the TESTING data: \n",
      "\n",
      "              precision    recall  f1-score   support\n",
      "\n",
      "           0       0.91      0.74      0.82       709\n",
      "           1       0.28      0.57      0.38       125\n",
      "\n",
      "    accuracy                           0.72       834\n",
      "   macro avg       0.59      0.66      0.60       834\n",
      "weighted avg       0.81      0.72      0.75       834\n",
      "\n",
      "\n",
      "\n",
      "----------------------------------------------------------------------------------------------------\n",
      "Naive Bayes\n"
     ]
    },
    {
     "data": {
      "image/png": "[encoded data removed]",
      "text/plain": [
       "<Figure size 432x288 with 2 Axes>"
      ]
     },
     "metadata": {
      "needs_background": "light"
     },
     "output_type": "display_data"
    },
    {
     "name": "stdout",
     "output_type": "stream",
     "text": [
      "Here's how the Naive Bayes model performed with the TRAINING data: \n",
      "\n",
      "              precision    recall  f1-score   support\n",
      "\n",
      "           0       0.71      0.54      0.61      2141\n",
      "           1       0.63      0.78      0.70      2141\n",
      "\n",
      "    accuracy                           0.66      4282\n",
      "   macro avg       0.67      0.66      0.65      4282\n",
      "weighted avg       0.67      0.66      0.65      4282\n",
      "\n",
      "---------------------------------------------------------------------------\n",
      "Here's how the Naive Bayes model performed with the TESTING data: \n",
      "\n",
      "              precision    recall  f1-score   support\n",
      "\n",
      "           0       0.89      0.52      0.65       709\n",
      "           1       0.19      0.63      0.29       125\n",
      "\n",
      "    accuracy                           0.53       834\n",
      "   macro avg       0.54      0.57      0.47       834\n",
      "weighted avg       0.78      0.53      0.60       834\n",
      "\n",
      "\n",
      "\n",
      "----------------------------------------------------------------------------------------------------\n",
      "Decision Tree\n"
     ]
    },
    {
     "data": {
      "image/png": "[encoded data removed]",
      "text/plain": [
       "<Figure size 432x288 with 2 Axes>"
      ]
     },
     "metadata": {
      "needs_background": "light"
     },
     "output_type": "display_data"
    },
    {
     "name": "stdout",
     "output_type": "stream",
     "text": [
      "Here's how the Decision Tree model performed with the TRAINING data: \n",
      "\n",
      "              precision    recall  f1-score   support\n",
      "\n",
      "           0       1.00      1.00      1.00      2141\n",
      "           1       1.00      1.00      1.00      2141\n",
      "\n",
      "    accuracy                           1.00      4282\n",
      "   macro avg       1.00      1.00      1.00      4282\n",
      "weighted avg       1.00      1.00      1.00      4282\n",
      "\n",
      "---------------------------------------------------------------------------\n",
      "Here's how the Decision Tree model performed with the TESTING data: \n",
      "\n",
      "              precision    recall  f1-score   support\n",
      "\n",
      "           0       0.98      0.94      0.96       709\n",
      "           1       0.71      0.88      0.79       125\n",
      "\n",
      "    accuracy                           0.93       834\n",
      "   macro avg       0.84      0.91      0.87       834\n",
      "weighted avg       0.94      0.93      0.93       834\n",
      "\n",
      "\n",
      "\n",
      "----------------------------------------------------------------------------------------------------\n",
      "Random Forest\n"
     ]
    },
    {
     "data": {
      "image/png": "[encoded data removed]",
      "text/plain": [
       "<Figure size 432x288 with 2 Axes>"
      ]
     },
     "metadata": {
      "needs_background": "light"
     },
     "output_type": "display_data"
    },
    {
     "name": "stdout",
     "output_type": "stream",
     "text": [
      "Here's how the Random Forest model performed with the TRAINING data: \n",
      "\n",
      "              precision    recall  f1-score   support\n",
      "\n",
      "           0       1.00      1.00      1.00      2141\n",
      "           1       1.00      1.00      1.00      2141\n",
      "\n",
      "    accuracy                           1.00      4282\n",
      "   macro avg       1.00      1.00      1.00      4282\n",
      "weighted avg       1.00      1.00      1.00      4282\n",
      "\n",
      "---------------------------------------------------------------------------\n",
      "Here's how the Random Forest model performed with the TESTING data: \n",
      "\n",
      "              precision    recall  f1-score   support\n",
      "\n",
      "           0       0.96      0.97      0.97       709\n",
      "           1       0.85      0.79      0.82       125\n",
      "\n",
      "    accuracy                           0.95       834\n",
      "   macro avg       0.90      0.88      0.89       834\n",
      "weighted avg       0.95      0.95      0.95       834\n",
      "\n",
      "\n",
      "\n",
      "----------------------------------------------------------------------------------------------------\n",
      "Bagging Classifier\n"
     ]
    },
    {
     "data": {
      "image/png": "[encoded data removed]",
      "text/plain": [
       "<Figure size 432x288 with 2 Axes>"
      ]
     },
     "metadata": {
      "needs_background": "light"
     },
     "output_type": "display_data"
    },
    {
     "name": "stdout",
     "output_type": "stream",
     "text": [
      "Here's how the Bagging Classifier model performed with the TRAINING data: \n",
      "\n",
      "              precision    recall  f1-score   support\n",
      "\n",
      "           0       0.99      1.00      1.00      2141\n",
      "           1       1.00      0.99      1.00      2141\n",
      "\n",
      "    accuracy                           1.00      4282\n",
      "   macro avg       1.00      1.00      1.00      4282\n",
      "weighted avg       1.00      1.00      1.00      4282\n",
      "\n",
      "---------------------------------------------------------------------------\n",
      "Here's how the Bagging Classifier model performed with the TESTING data: \n",
      "\n",
      "              precision    recall  f1-score   support\n",
      "\n",
      "           0       0.98      0.98      0.98       709\n",
      "           1       0.89      0.88      0.89       125\n",
      "\n",
      "    accuracy                           0.97       834\n",
      "   macro avg       0.94      0.93      0.93       834\n",
      "weighted avg       0.97      0.97      0.97       834\n",
      "\n",
      "\n",
      "\n",
      "----------------------------------------------------------------------------------------------------\n",
      "AdaBoost\n"
     ]
    },
    {
     "data": {
      "image/png": "[encoded data removed]",
      "text/plain": [
       "<Figure size 432x288 with 2 Axes>"
      ]
     },
     "metadata": {
      "needs_background": "light"
     },
     "output_type": "display_data"
    },
    {
     "name": "stdout",
     "output_type": "stream",
     "text": [
      "Here's how the AdaBoost model performed with the TRAINING data: \n",
      "\n",
      "              precision    recall  f1-score   support\n",
      "\n",
      "           0       0.92      0.92      0.92      2141\n",
      "           1       0.92      0.92      0.92      2141\n",
      "\n",
      "    accuracy                           0.92      4282\n",
      "   macro avg       0.92      0.92      0.92      4282\n",
      "weighted avg       0.92      0.92      0.92      4282\n",
      "\n",
      "---------------------------------------------------------------------------\n",
      "Here's how the AdaBoost model performed with the TESTING data: \n",
      "\n",
      "              precision    recall  f1-score   support\n",
      "\n",
      "           0       0.96      0.93      0.94       709\n",
      "           1       0.66      0.78      0.72       125\n",
      "\n",
      "    accuracy                           0.91       834\n",
      "   macro avg       0.81      0.86      0.83       834\n",
      "weighted avg       0.92      0.91      0.91       834\n",
      "\n",
      "\n",
      "\n",
      "----------------------------------------------------------------------------------------------------\n",
      "Gradient Boosting\n"
     ]
    },
    {
     "data": {
      "image/png": "[encoded data removed]",
      "text/plain": [
       "<Figure size 432x288 with 2 Axes>"
      ]
     },
     "metadata": {
      "needs_background": "light"
     },
     "output_type": "display_data"
    },
    {
     "name": "stdout",
     "output_type": "stream",
     "text": [
      "Here's how the Gradient Boosting model performed with the TRAINING data: \n",
      "\n",
      "              precision    recall  f1-score   support\n",
      "\n",
      "           0       0.96      1.00      0.98      2141\n",
      "           1       1.00      0.96      0.98      2141\n",
      "\n",
      "    accuracy                           0.98      4282\n",
      "   macro avg       0.98      0.98      0.98      4282\n",
      "weighted avg       0.98      0.98      0.98      4282\n",
      "\n",
      "---------------------------------------------------------------------------\n",
      "Here's how the Gradient Boosting model performed with the TESTING data: \n",
      "\n",
      "              precision    recall  f1-score   support\n",
      "\n",
      "           0       0.98      1.00      0.99       709\n",
      "           1       0.98      0.88      0.93       125\n",
      "\n",
      "    accuracy                           0.98       834\n",
      "   macro avg       0.98      0.94      0.96       834\n",
      "weighted avg       0.98      0.98      0.98       834\n",
      "\n",
      "\n",
      "\n",
      "----------------------------------------------------------------------------------------------------\n",
      "XGB\n"
     ]
    },
    {
     "data": {
      "image/png": "[encoded data removed]",
      "text/plain": [
       "<Figure size 432x288 with 2 Axes>"
      ]
     },
     "metadata": {
      "needs_background": "light"
     },
     "output_type": "display_data"
    },
    {
     "name": "stdout",
     "output_type": "stream",
     "text": [
      "Here's how the XGB model performed with the TRAINING data: \n",
      "\n",
      "              precision    recall  f1-score   support\n",
      "\n",
      "           0       0.96      0.99      0.98      2141\n",
      "           1       0.99      0.96      0.97      2141\n",
      "\n",
      "    accuracy                           0.97      4282\n",
      "   macro avg       0.98      0.97      0.97      4282\n",
      "weighted avg       0.98      0.97      0.97      4282\n",
      "\n",
      "---------------------------------------------------------------------------\n",
      "Here's how the XGB model performed with the TESTING data: \n",
      "\n",
      "              precision    recall  f1-score   support\n",
      "\n",
      "           0       0.98      0.99      0.98       709\n",
      "           1       0.92      0.88      0.90       125\n",
      "\n",
      "    accuracy                           0.97       834\n",
      "   macro avg       0.95      0.93      0.94       834\n",
      "weighted avg       0.97      0.97      0.97       834\n",
      "\n",
      "\n",
      "\n",
      "----------------------------------------------------------------------------------------------------\n",
      "SVM\n"
     ]
    },
    {
     "data": {
      "image/png": "[encoded data removed]",
      "text/plain": [
       "<Figure size 432x288 with 2 Axes>"
      ]
     },
     "metadata": {
      "needs_background": "light"
     },
     "output_type": "display_data"
    },
    {
     "name": "stdout",
     "output_type": "stream",
     "text": [
      "Here's how the SVM model performed with the TRAINING data: \n",
      "\n",
      "              precision    recall  f1-score   support\n",
      "\n",
      "           0       0.96      0.92      0.94      2141\n",
      "           1       0.92      0.96      0.94      2141\n",
      "\n",
      "    accuracy                           0.94      4282\n",
      "   macro avg       0.94      0.94      0.94      4282\n",
      "weighted avg       0.94      0.94      0.94      4282\n",
      "\n",
      "---------------------------------------------------------------------------\n",
      "Here's how the SVM model performed with the TESTING data: \n",
      "\n",
      "              precision    recall  f1-score   support\n",
      "\n",
      "           0       0.93      0.87      0.90       709\n",
      "           1       0.47      0.62      0.53       125\n",
      "\n",
      "    accuracy                           0.84       834\n",
      "   macro avg       0.70      0.75      0.72       834\n",
      "weighted avg       0.86      0.84      0.85       834\n",
      "\n"
     ]
    },
    {
     "data": {
      "text/html": [
       "<div>\n",
       "<style scoped>\n",
       "    .dataframe tbody tr th:only-of-type {\n",
       "        vertical-align: middle;\n",
       "    }\n",
       "\n",
       "    .dataframe tbody tr th {\n",
       "        vertical-align: top;\n",
       "    }\n",
       "\n",
       "    .dataframe thead th {\n",
       "        text-align: right;\n",
       "    }\n",
       "</style>\n",
       "<table border=\"1\" class=\"dataframe\">\n",
       "  <thead>\n",
       "    <tr style=\"text-align: right;\">\n",
       "      <th></th>\n",
       "      <th>Model</th>\n",
       "      <th>Recall Score</th>\n",
       "      <th>Accuracy(Test)</th>\n",
       "      <th>F1 Score</th>\n",
       "    </tr>\n",
       "  </thead>\n",
       "  <tbody>\n",
       "    <tr>\n",
       "      <th>0</th>\n",
       "      <td>Log Regression</td>\n",
       "      <td>0.768</td>\n",
       "      <td>0.779376</td>\n",
       "      <td>0.510638</td>\n",
       "    </tr>\n",
       "    <tr>\n",
       "      <th>1</th>\n",
       "      <td>KNN</td>\n",
       "      <td>0.568</td>\n",
       "      <td>0.718225</td>\n",
       "      <td>0.376658</td>\n",
       "    </tr>\n",
       "    <tr>\n",
       "      <th>2</th>\n",
       "      <td>Naive Bayes</td>\n",
       "      <td>0.632</td>\n",
       "      <td>0.533573</td>\n",
       "      <td>0.288848</td>\n",
       "    </tr>\n",
       "    <tr>\n",
       "      <th>3</th>\n",
       "      <td>Decision Tree</td>\n",
       "      <td>0.880</td>\n",
       "      <td>0.928058</td>\n",
       "      <td>0.785714</td>\n",
       "    </tr>\n",
       "    <tr>\n",
       "      <th>4</th>\n",
       "      <td>Random Forest</td>\n",
       "      <td>0.792</td>\n",
       "      <td>0.947242</td>\n",
       "      <td>0.818182</td>\n",
       "    </tr>\n",
       "    <tr>\n",
       "      <th>5</th>\n",
       "      <td>Bagging Classifier</td>\n",
       "      <td>0.880</td>\n",
       "      <td>0.966427</td>\n",
       "      <td>0.887097</td>\n",
       "    </tr>\n",
       "    <tr>\n",
       "      <th>6</th>\n",
       "      <td>AdaBoost</td>\n",
       "      <td>0.784</td>\n",
       "      <td>0.906475</td>\n",
       "      <td>0.715328</td>\n",
       "    </tr>\n",
       "    <tr>\n",
       "      <th>7</th>\n",
       "      <td>Gradient Boosting</td>\n",
       "      <td>0.880</td>\n",
       "      <td>0.979616</td>\n",
       "      <td>0.928270</td>\n",
       "    </tr>\n",
       "    <tr>\n",
       "      <th>8</th>\n",
       "      <td>XGB</td>\n",
       "      <td>0.880</td>\n",
       "      <td>0.971223</td>\n",
       "      <td>0.901639</td>\n",
       "    </tr>\n",
       "    <tr>\n",
       "      <th>9</th>\n",
       "      <td>SVM</td>\n",
       "      <td>0.624</td>\n",
       "      <td>0.836930</td>\n",
       "      <td>0.534247</td>\n",
       "    </tr>\n",
       "  </tbody>\n",
       "</table>\n",
       "</div>"
      ],
      "text/plain": [
       "                Model  Recall Score  Accuracy(Test)  F1 Score\n",
       "0      Log Regression         0.768        0.779376  0.510638\n",
       "1                 KNN         0.568        0.718225  0.376658\n",
       "2         Naive Bayes         0.632        0.533573  0.288848\n",
       "3       Decision Tree         0.880        0.928058  0.785714\n",
       "4       Random Forest         0.792        0.947242  0.818182\n",
       "5  Bagging Classifier         0.880        0.966427  0.887097\n",
       "6            AdaBoost         0.784        0.906475  0.715328\n",
       "7   Gradient Boosting         0.880        0.979616  0.928270\n",
       "8                 XGB         0.880        0.971223  0.901639\n",
       "9                 SVM         0.624        0.836930  0.534247"
      ]
     },
     "execution_count": 15,
     "metadata": {},
     "output_type": "execute_result"
    }
   ],
   "source": [
    "compare_models(X_train, X_test, y_train, y_test, models, names)"
   ]
  },
  {
   "cell_type": "markdown",
   "metadata": {},
   "source": [
    "### Metric to Use:\n",
    "\n",
    "##### Recall\n",
    "\n",
    "Given the business problem at hand, I believe the best metric to use is Recall. It is better to categorize a loyal customer as someone likely to churn instead of misclassifying a departing customer as loyal, in which case we won't enroll them in our retention program. Financially, that could be the difference between offering someone a discount that wasn't really needed (in a False Positive scenario) vs. having to acquire an entirely new client to make up for False Negative. "
   ]
  },
  {
   "cell_type": "markdown",
   "metadata": {},
   "source": [
    "### Analysis: \n",
    "\n",
    "Even though Recall is the main metric I'll focus on, I'm taking into account all three metrics (all for the test set). Right off the bat, the KNN, Naive Bayes, and SVM models have the lowest Recall Score (under 65%). Naive Bayes has a pretty low accuracy score, too, only slightly better than random guessing. It looks like algorithms that use ensamble methods such as bagging (Bagged Trees) and boosting (Gradient Boosting, XGB) are the clear winners with the highest Recall Scores of 88%, along with very high accuracy and F1 scores - over 90%. Decision Tree also has high scores, but since the other winning algorithms already utilize Decision Tree as their estimator, it's best to choose an algorithm that has multiple decision trees.\n",
    "\n",
    "#### Conclusion:\n",
    "\n",
    "I'm going to proeced with a classifier utilizing one of each ensamble methods: Bagged Trees and Gradient Boosting.  "
   ]
  }
 ],
 "metadata": {
  "kernelspec": {
   "display_name": "learn-env",
   "language": "python",
   "name": "learn-env"
  },
  "language_info": {
   "codemirror_mode": {
    "name": "ipython",
    "version": 3
   },
   "file_extension": ".py",
   "mimetype": "text/x-python",
   "name": "python",
   "nbconvert_exporter": "python",
   "pygments_lexer": "ipython3",
   "version": "3.6.9"
  }
 },
 "nbformat": 4,
 "nbformat_minor": 4
}
